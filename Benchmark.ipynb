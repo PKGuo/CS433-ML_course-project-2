{
 "cells": [
  {
   "cell_type": "code",
   "execution_count": 1,
   "metadata": {},
   "outputs": [],
   "source": [
    "import sys\n",
    "import time\n",
    "\n",
    "# Maths things\n",
    "import numpy as np\n",
    "\n",
    "# Plotting\n",
    "import matplotlib.pyplot as plt\n",
    "\n",
    "# Algorithm\n",
    "from sklearn.kernel_ridge import KernelRidge\n",
    "from sklearn.linear_model import Ridge\n",
    "from sklearn.decomposition import PCA\n",
    "from sklearn.metrics import mean_squared_error"
   ]
  },
  {
   "cell_type": "code",
   "execution_count": 2,
   "metadata": {},
   "outputs": [],
   "source": [
    "data = np.load('regression_data.npy')\n",
    "target = np.loadtxt('target_values.txt')"
   ]
  },
  {
   "cell_type": "code",
   "execution_count": 3,
   "metadata": {},
   "outputs": [
    {
     "name": "stdout",
     "output_type": "stream",
     "text": [
      "(754, 27827) (754,)\n"
     ]
    }
   ],
   "source": [
    "print(data.shape,target.shape)\n",
    "X_test = data[654:]\n",
    "Y_test = target[654:]"
   ]
  },
  {
   "cell_type": "code",
   "execution_count": 4,
   "metadata": {
    "scrolled": true
   },
   "outputs": [
    {
     "name": "stdout",
     "output_type": "stream",
     "text": [
      "21.17797375665267\n",
      "14.564978182368538\n",
      "9.111206121736167\n",
      "5.436798410246954\n",
      "8.263064226343927\n",
      "4.966255711338711\n",
      "5.346821840990574\n",
      "2.980011562585527\n",
      "4.4488549257109815\n",
      "2.346749719491467\n",
      "3.3925097265854935\n",
      "1.5912878663961332\n",
      "3.3046413826633194\n",
      "1.5119437903353043\n",
      "2.691635717159151\n",
      "1.1782977417053642\n",
      "2.4254028853215184\n",
      "1.1410445595853271\n",
      "1.972141852962872\n",
      "0.8987741745910085\n",
      "1.8301903685562748\n",
      "0.8132504701882439\n",
      "1.770906270881169\n",
      "0.7605826217861442\n",
      "1.657290326032813\n",
      "0.7043995206055246\n"
     ]
    }
   ],
   "source": [
    "kernel_params = {\"kernel\": \"rbf\", \"gamma\": 1.0}\n",
    "alpha = 1e-6\n",
    "krr = KernelRidge(alpha = alpha, **kernel_params)\n",
    "n_components = 50\n",
    "pca = PCA(n_components = n_components)\n",
    "rr = Ridge(alpha= alpha)\n",
    "losses = []\n",
    "losses_pca = []\n",
    "for n in np.arange(50,654,50):\n",
    "    X_train = data[:n]\n",
    "    Y_train = target[:n]\n",
    "    krr.fit(X_train,Y_train)\n",
    "    Y_pred = krr.predict(X_test)\n",
    "    loss = mean_squared_error(Y_test, Y_pred)\n",
    "    print(loss)\n",
    "    losses.append(loss)\n",
    "    pca.fit(X_train)\n",
    "    T_train = pca.transform(X_train)\n",
    "    T_test = pca.transform(X_test)\n",
    "    krr.fit(T_train,Y_train)\n",
    "    Y_pred_pca = krr.predict(T_test)\n",
    "    loss_pca = mean_squared_error(Y_test, Y_pred_pca)\n",
    "    print(loss_pca)\n",
    "    losses_pca.append(loss_pca)"
   ]
  },
  {
   "cell_type": "code",
   "execution_count": 5,
   "metadata": {},
   "outputs": [
    {
     "data": {
      "image/png": "[encoded data removed]",
      "text/plain": [
       "<Figure size 432x288 with 1 Axes>"
      ]
     },
     "metadata": {
      "needs_background": "light"
     },
     "output_type": "display_data"
    }
   ],
   "source": [
    "plt.plot(np.arange(50,654,50),losses,'.-', label='without PCA')\n",
    "plt.plot(np.arange(50,654,50),losses_pca,'.-', label='with PCA:  '+'$n\\_PC = {}$'.format(n_components))\n",
    "plt.xlabel('Number of training samples')\n",
    "plt.ylabel('Loss')\n",
    "plt.legend()\n",
    "plt.title('Learning Curve--'+'Kernel Ridge Regression: {} kernel'.format(kernel_params[\"kernel\"]))\n",
    "plt.show()"
   ]
  }
 ],
 "metadata": {
  "kernelspec": {
   "display_name": "Python 3",
   "language": "python",
   "name": "python3"
  },
  "language_info": {
   "codemirror_mode": {
    "name": "ipython",
    "version": 3
   },
   "file_extension": ".py",
   "mimetype": "text/x-python",
   "name": "python",
   "nbconvert_exporter": "python",
   "pygments_lexer": "ipython3",
   "version": "3.7.4"
  }
 },
 "nbformat": 4,
 "nbformat_minor": 2
}
